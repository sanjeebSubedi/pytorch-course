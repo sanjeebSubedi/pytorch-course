{
 "cells": [
  {
   "cell_type": "code",
   "execution_count": 1,
   "metadata": {},
   "outputs": [
    {
     "name": "stdout",
     "output_type": "stream",
     "text": [
      "[{'name': 'python', 'version': '3.6.5'}, {'name': 'torch', 'version': '1.7.0'}, {'name': 'torchvision', 'version': '0.8.1'}, {'name': 'tensorflow', 'version': '2.0.0-rc1'}, {'name': 'tensorboard', 'version': '1.15.0a20190806'}, {'name': 'pandas', 'version': '1.0.1'}, {'name': 'numpy', 'version': '1.19.2'}]\n"
     ]
    }
   ],
   "source": [
    "import platform\n",
    "import torch\n",
    "import torchvision\n",
    "import tensorflow\n",
    "import tensorboard\n",
    "import pandas\n",
    "import numpy\n",
    "\n",
    "versions = dict()\n",
    "versions['python'] = platform.python_version()\n",
    "versions['torch'] = torch.__version__\n",
    "versions['torchvision'] = torchvision.__version__\n",
    "versions['tensorflow'] = tensorflow.__version__\n",
    "versions['tensorboard'] = tensorboard.version.VERSION\n",
    "versions['pandas'] = pandas.__version__\n",
    "versions['numpy'] = numpy.__version__\n",
    "\n",
    "packages = []\n",
    "for k, v in versions.items():\n",
    "    packages.append({\n",
    "        'name': k\n",
    "        ,'version': v\n",
    "    })\n",
    "    \n",
    "print(packages)\n",
    "\n",
    "import json\n",
    "with open(f'versions.json', 'w', encoding='utf-8') as f:\n",
    "    json.dump(packages, f, ensure_ascii=False, indent=4)"
   ]
  }
 ],
 "metadata": {
  "kernelspec": {
   "display_name": "Python 3",
   "language": "python",
   "name": "python3"
  },
  "language_info": {
   "codemirror_mode": {
    "name": "ipython",
    "version": 3
   },
   "file_extension": ".py",
   "mimetype": "text/x-python",
   "name": "python",
   "nbconvert_exporter": "python",
   "pygments_lexer": "ipython3",
   "version": "3.6.5"
  }
 },
 "nbformat": 4,
 "nbformat_minor": 4
}
